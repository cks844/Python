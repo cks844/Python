{
 "cells": [
  {
   "cell_type": "code",
   "execution_count": 27,
   "id": "2cd9d185",
   "metadata": {},
   "outputs": [
    {
     "name": "stdout",
     "output_type": "stream",
     "text": [
      "{'a': 'Z', 'b': 'a', 'c': 'b', 'd': 'c', 'e': 'd', 'f': 'e', 'g': 'f', 'h': 'g', 'i': 'h', 'j': 'i', 'k': 'j', 'l': 'k', 'm': 'l', 'n': 'm', 'o': 'n', 'p': 'o', 'q': 'p', 'r': 'q', 's': 'r', 't': 's', 'u': 't', 'v': 'u', 'w': 'v', 'x': 'w', 'y': 'x', 'z': 'y', 'A': 'z', 'B': 'A', 'C': 'B', 'D': 'C', 'E': 'D', 'F': 'E', 'G': 'F', 'H': 'G', 'I': 'H', 'J': 'I', 'K': 'J', 'L': 'K', 'M': 'L', 'N': 'M', 'O': 'N', 'P': 'O', 'Q': 'P', 'R': 'Q', 'S': 'R', 'T': 'S', 'U': 'T', 'V': 'U', 'W': 'V', 'X': 'W', 'Y': 'X', 'Z': 'Y'}\n",
      "The string is: I am learning python\n",
      "H\n",
      " \n",
      "Z\n",
      "l\n",
      " \n",
      "k\n",
      "d\n",
      "Z\n",
      "q\n",
      "m\n",
      "h\n",
      "m\n",
      "f\n",
      " \n",
      "o\n",
      "x\n",
      "s\n",
      "g\n",
      "n\n",
      "m\n",
      "End of file\n"
     ]
    }
   ],
   "source": [
    "import string\n",
    "dict={}\n",
    "data=\"\"\n",
    "for i in range(len(string.ascii_letters)):\n",
    "    dict[string.ascii_letters[i]]=string.ascii_letters[i-1]\n",
    "print(dict)\n",
    "f=open(\"file.txt\")\n",
    "print(\"The string is:\",f.read())\n",
    "with open(\"file.txt\") as f:\n",
    "    while True:\n",
    "        c=f.read(1)\n",
    "        if not c:\n",
    "            print(\"End of file\")\n",
    "            break\n",
    "        if c in dict:\n",
    "            data=dict[c]\n",
    "        else:\n",
    "            data=c\n",
    "        print(data)"
   ]
  }
 ],
 "metadata": {
  "kernelspec": {
   "display_name": "Python 3 (ipykernel)",
   "language": "python",
   "name": "python3"
  },
  "language_info": {
   "codemirror_mode": {
    "name": "ipython",
    "version": 3
   },
   "file_extension": ".py",
   "mimetype": "text/x-python",
   "name": "python",
   "nbconvert_exporter": "python",
   "pygments_lexer": "ipython3",
   "version": "3.10.4"
  }
 },
 "nbformat": 4,
 "nbformat_minor": 5
}
