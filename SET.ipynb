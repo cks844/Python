{
 "cells": [
  {
   "cell_type": "markdown",
   "id": "2902e7bb",
   "metadata": {},
   "source": [
    "SETS\n",
    "A Set is a unordered collection datatype that is iterable,mutable and has no duplicate elements "
   ]
  },
  {
   "cell_type": "code",
   "execution_count": 1,
   "id": "64f19808",
   "metadata": {},
   "outputs": [
    {
     "name": "stdout",
     "output_type": "stream",
     "text": [
      "{'Chemistry', 'English', 'Maths'}\n"
     ]
    }
   ],
   "source": [
    "set={\"Maths\",\"English\",\"Chemistry\"}\n",
    "print(set)"
   ]
  },
  {
   "cell_type": "code",
   "execution_count": 2,
   "id": "d8ac6880",
   "metadata": {},
   "outputs": [
    {
     "data": {
      "text/plain": [
       "{1, 2, 3, 4, 5}"
      ]
     },
     "execution_count": 2,
     "metadata": {},
     "output_type": "execute_result"
    }
   ],
   "source": [
    "set={1,2,3,4,4,5,5}\n",
    "set #no duplicates"
   ]
  },
  {
   "cell_type": "code",
   "execution_count": 5,
   "id": "55ce24ad",
   "metadata": {},
   "outputs": [
    {
     "data": {
      "text/plain": [
       "{1, 10, 2, 3, 4, 5, 'Physics'}"
      ]
     },
     "execution_count": 5,
     "metadata": {},
     "output_type": "execute_result"
    }
   ],
   "source": [
    "set.add(10)\n",
    "set"
   ]
  },
  {
   "cell_type": "code",
   "execution_count": 6,
   "id": "cdda8f75",
   "metadata": {},
   "outputs": [
    {
     "data": {
      "text/plain": [
       "{1, 2, 3, 4, 5, 10}"
      ]
     },
     "execution_count": 6,
     "metadata": {},
     "output_type": "execute_result"
    }
   ],
   "source": [
    "set.remove('Physics')\n",
    "set"
   ]
  },
  {
   "cell_type": "code",
   "execution_count": 11,
   "id": "ad96b070",
   "metadata": {},
   "outputs": [
    {
     "data": {
      "text/plain": [
       "{5}"
      ]
     },
     "execution_count": 11,
     "metadata": {},
     "output_type": "execute_result"
    }
   ],
   "source": [
    "set1={1,2,3,4}\n",
    "set2={1,2,3,4,5}\n",
    "set2.difference(set1)\n",
    "set2.difference_update(set1) #update set after removing\n",
    "set2"
   ]
  },
  {
   "cell_type": "code",
   "execution_count": 12,
   "id": "dd9c0d02",
   "metadata": {},
   "outputs": [
    {
     "data": {
      "text/plain": [
       "set()"
      ]
     },
     "execution_count": 12,
     "metadata": {},
     "output_type": "execute_result"
    }
   ],
   "source": []
  },
  {
   "cell_type": "code",
   "execution_count": null,
   "id": "90291f67",
   "metadata": {},
   "outputs": [],
   "source": []
  }
 ],
 "metadata": {
  "kernelspec": {
   "display_name": "Python 3 (ipykernel)",
   "language": "python",
   "name": "python3"
  },
  "language_info": {
   "codemirror_mode": {
    "name": "ipython",
    "version": 3
   },
   "file_extension": ".py",
   "mimetype": "text/x-python",
   "name": "python",
   "nbconvert_exporter": "python",
   "pygments_lexer": "ipython3",
   "version": "3.10.4"
  }
 },
 "nbformat": 4,
 "nbformat_minor": 5
}
