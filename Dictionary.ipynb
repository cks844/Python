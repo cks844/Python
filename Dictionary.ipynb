{
 "cells": [
  {
   "cell_type": "code",
   "execution_count": 2,
   "id": "51050c7d",
   "metadata": {},
   "outputs": [
    {
     "data": {
      "text/plain": [
       "{'Book1': 'Maths', 'Book2': 'English'}"
      ]
     },
     "execution_count": 2,
     "metadata": {},
     "output_type": "execute_result"
    }
   ],
   "source": [
    "dict={'Book1':'Maths',\"Book2\":\"English\"}\n",
    "dict"
   ]
  },
  {
   "cell_type": "code",
   "execution_count": 5,
   "id": "b0bcc605",
   "metadata": {},
   "outputs": [
    {
     "data": {
      "text/plain": [
       "'Maths'"
      ]
     },
     "execution_count": 5,
     "metadata": {},
     "output_type": "execute_result"
    }
   ],
   "source": [
    "dict['Book1'] #access data based on keys"
   ]
  },
  {
   "cell_type": "code",
   "execution_count": 6,
   "id": "3b9260c6",
   "metadata": {},
   "outputs": [
    {
     "name": "stdout",
     "output_type": "stream",
     "text": [
      "Book1\n",
      "Book2\n"
     ]
    }
   ],
   "source": [
    "#for looping through key values\n",
    "for i in dict:\n",
    "    print(i)"
   ]
  },
  {
   "cell_type": "code",
   "execution_count": 7,
   "id": "067d18fb",
   "metadata": {},
   "outputs": [
    {
     "name": "stdout",
     "output_type": "stream",
     "text": [
      "Maths\n",
      "English\n"
     ]
    }
   ],
   "source": [
    "#for getting values alone\n",
    "for i in dict.values():\n",
    "    print(i)\n",
    "    "
   ]
  },
  {
   "cell_type": "code",
   "execution_count": 8,
   "id": "170d1ab5",
   "metadata": {},
   "outputs": [
    {
     "name": "stdout",
     "output_type": "stream",
     "text": [
      "('Book1', 'Maths')\n",
      "('Book2', 'English')\n"
     ]
    }
   ],
   "source": [
    "for i in dict.items():\n",
    "    print(i)"
   ]
  },
  {
   "cell_type": "code",
   "execution_count": 17,
   "id": "0dcc92e4",
   "metadata": {},
   "outputs": [
    {
     "name": "stdout",
     "output_type": "stream",
     "text": [
      "{'1': {'Mercedes': 1900}, '2': {'BMW': 1910}}\n"
     ]
    }
   ],
   "source": [
    "car1={'Mercedes':1900}\n",
    "car2={'BMW':1910}\n",
    "new_car={'1':car1,'2':car2}\n",
    "print(new_car) #nested dictionary"
   ]
  },
  {
   "cell_type": "code",
   "execution_count": 21,
   "id": "2e27e7d8",
   "metadata": {},
   "outputs": [
    {
     "name": "stdout",
     "output_type": "stream",
     "text": [
      "{'Mercedes': 1900}\n",
      "1900\n"
     ]
    }
   ],
   "source": [
    "print(new_car['1'])\n",
    "print(new_car['1']['Mercedes'])"
   ]
  },
  {
   "cell_type": "code",
   "execution_count": null,
   "id": "cd3e1bc7",
   "metadata": {},
   "outputs": [],
   "source": []
  }
 ],
 "metadata": {
  "kernelspec": {
   "display_name": "Python 3 (ipykernel)",
   "language": "python",
   "name": "python3"
  },
  "language_info": {
   "codemirror_mode": {
    "name": "ipython",
    "version": 3
   },
   "file_extension": ".py",
   "mimetype": "text/x-python",
   "name": "python",
   "nbconvert_exporter": "python",
   "pygments_lexer": "ipython3",
   "version": "3.10.4"
  }
 },
 "nbformat": 4,
 "nbformat_minor": 5
}
